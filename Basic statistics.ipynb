{
 "cells": [
  {
   "cell_type": "code",
   "execution_count": 16,
   "id": "292c14cd-2741-455f-a689-b13143ab21e0",
   "metadata": {},
   "outputs": [],
   "source": [
    "data=[6+4+10+3+7]"
   ]
  },
  {
   "cell_type": "code",
   "execution_count": 17,
   "id": "034c5b9a-69e4-44d5-b839-8d78e26fae04",
   "metadata": {},
   "outputs": [],
   "source": [
    "mean=(6+4+10+3+7)/5"
   ]
  },
  {
   "cell_type": "code",
   "execution_count": 18,
   "id": "2a5a6f0e-e44f-4346-820b-e86e5a9af02e",
   "metadata": {},
   "outputs": [
    {
     "data": {
      "text/plain": [
       "6.0"
      ]
     },
     "execution_count": 18,
     "metadata": {},
     "output_type": "execute_result"
    }
   ],
   "source": [
    "mean"
   ]
  },
  {
   "cell_type": "code",
   "execution_count": null,
   "id": "f3b0f594-6db6-4753-b244-c5e25f3afe6f",
   "metadata": {},
   "outputs": [],
   "source": [
    "data=[10,29,15,39,11,2,3,4,7]"
   ]
  },
  {
   "cell_type": "code",
   "execution_count": 19,
   "id": "00ca8cbb-1f9e-4583-8f0b-b15b5fccf7e7",
   "metadata": {},
   "outputs": [],
   "source": [
    "Median=(9+1)/2"
   ]
  },
  {
   "cell_type": "code",
   "execution_count": 20,
   "id": "40e1a1d4-e835-4b1d-b51f-77c6ebd59aca",
   "metadata": {},
   "outputs": [
    {
     "data": {
      "text/plain": [
       "5.0"
      ]
     },
     "execution_count": 20,
     "metadata": {},
     "output_type": "execute_result"
    }
   ],
   "source": [
    "Median"
   ]
  },
  {
   "cell_type": "code",
   "execution_count": null,
   "id": "354ca992-2362-49fd-bf08-a48a4b3bcc26",
   "metadata": {},
   "outputs": [],
   "source": [
    "Mode=[12.32.12.32.12.4.5.65]"
   ]
  },
  {
   "cell_type": "code",
   "execution_count": null,
   "id": "ec2ba793-7a2d-4df7-8a98-2167d52b76ba",
   "metadata": {},
   "outputs": [],
   "source": []
  }
 ],
 "metadata": {
  "kernelspec": {
   "display_name": "Python 3 (ipykernel)",
   "language": "python",
   "name": "python3"
  },
  "language_info": {
   "codemirror_mode": {
    "name": "ipython",
    "version": 3
   },
   "file_extension": ".py",
   "mimetype": "text/x-python",
   "name": "python",
   "nbconvert_exporter": "python",
   "pygments_lexer": "ipython3",
   "version": "3.12.4"
  }
 },
 "nbformat": 4,
 "nbformat_minor": 5
}
