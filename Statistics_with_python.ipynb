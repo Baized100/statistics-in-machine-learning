{
 "cells": [
  {
   "cell_type": "code",
   "execution_count": 112,
   "id": "addcc8e7-0342-4d4c-8ca7-c506cc3eb6d0",
   "metadata": {},
   "outputs": [],
   "source": [
    "import pandas as pd\n",
    "import numpy as np\n",
    "from matplotlib import pyplot as plt\n",
    "import seaborn as sns"
   ]
  },
  {
   "cell_type": "code",
   "execution_count": 113,
   "id": "7b2bcfe4-ebfa-4b85-84b3-1bd65b1ff506",
   "metadata": {},
   "outputs": [],
   "source": [
    "df=pd.read_csv(\"weight-height.csv\")"
   ]
  },
  {
   "cell_type": "code",
   "execution_count": 114,
   "id": "a41134f5-a193-4134-9aa0-4d73cbf02de1",
   "metadata": {},
   "outputs": [
    {
     "data": {
      "text/html": [
       "<div>\n",
       "<style scoped>\n",
       "    .dataframe tbody tr th:only-of-type {\n",
       "        vertical-align: middle;\n",
       "    }\n",
       "\n",
       "    .dataframe tbody tr th {\n",
       "        vertical-align: top;\n",
       "    }\n",
       "\n",
       "    .dataframe thead th {\n",
       "        text-align: right;\n",
       "    }\n",
       "</style>\n",
       "<table border=\"1\" class=\"dataframe\">\n",
       "  <thead>\n",
       "    <tr style=\"text-align: right;\">\n",
       "      <th></th>\n",
       "      <th>Gender</th>\n",
       "      <th>Height</th>\n",
       "      <th>Weight</th>\n",
       "    </tr>\n",
       "  </thead>\n",
       "  <tbody>\n",
       "    <tr>\n",
       "      <th>0</th>\n",
       "      <td>Male</td>\n",
       "      <td>73.847017</td>\n",
       "      <td>241.893563</td>\n",
       "    </tr>\n",
       "    <tr>\n",
       "      <th>1</th>\n",
       "      <td>Male</td>\n",
       "      <td>68.781904</td>\n",
       "      <td>162.310473</td>\n",
       "    </tr>\n",
       "    <tr>\n",
       "      <th>2</th>\n",
       "      <td>Male</td>\n",
       "      <td>74.110105</td>\n",
       "      <td>212.740856</td>\n",
       "    </tr>\n",
       "    <tr>\n",
       "      <th>3</th>\n",
       "      <td>Male</td>\n",
       "      <td>71.730978</td>\n",
       "      <td>220.042470</td>\n",
       "    </tr>\n",
       "    <tr>\n",
       "      <th>4</th>\n",
       "      <td>Male</td>\n",
       "      <td>69.881796</td>\n",
       "      <td>206.349801</td>\n",
       "    </tr>\n",
       "    <tr>\n",
       "      <th>5</th>\n",
       "      <td>Male</td>\n",
       "      <td>67.253016</td>\n",
       "      <td>152.212156</td>\n",
       "    </tr>\n",
       "  </tbody>\n",
       "</table>\n",
       "</div>"
      ],
      "text/plain": [
       "  Gender     Height      Weight\n",
       "0   Male  73.847017  241.893563\n",
       "1   Male  68.781904  162.310473\n",
       "2   Male  74.110105  212.740856\n",
       "3   Male  71.730978  220.042470\n",
       "4   Male  69.881796  206.349801\n",
       "5   Male  67.253016  152.212156"
      ]
     },
     "execution_count": 114,
     "metadata": {},
     "output_type": "execute_result"
    }
   ],
   "source": [
    "df.head(6)"
   ]
  },
  {
   "cell_type": "code",
   "execution_count": 115,
   "id": "d1b64bdf-60f4-4b0e-8a3b-7c50fa77ab28",
   "metadata": {},
   "outputs": [
    {
     "data": {
      "text/html": [
       "<div>\n",
       "<style scoped>\n",
       "    .dataframe tbody tr th:only-of-type {\n",
       "        vertical-align: middle;\n",
       "    }\n",
       "\n",
       "    .dataframe tbody tr th {\n",
       "        vertical-align: top;\n",
       "    }\n",
       "\n",
       "    .dataframe thead th {\n",
       "        text-align: right;\n",
       "    }\n",
       "</style>\n",
       "<table border=\"1\" class=\"dataframe\">\n",
       "  <thead>\n",
       "    <tr style=\"text-align: right;\">\n",
       "      <th></th>\n",
       "      <th>Height</th>\n",
       "      <th>Weight</th>\n",
       "    </tr>\n",
       "  </thead>\n",
       "  <tbody>\n",
       "    <tr>\n",
       "      <th>count</th>\n",
       "      <td>8555.000000</td>\n",
       "      <td>8555.000000</td>\n",
       "    </tr>\n",
       "    <tr>\n",
       "      <th>mean</th>\n",
       "      <td>66.809925</td>\n",
       "      <td>165.632735</td>\n",
       "    </tr>\n",
       "    <tr>\n",
       "      <th>std</th>\n",
       "      <td>3.851454</td>\n",
       "      <td>32.043922</td>\n",
       "    </tr>\n",
       "    <tr>\n",
       "      <th>min</th>\n",
       "      <td>54.616858</td>\n",
       "      <td>65.780000</td>\n",
       "    </tr>\n",
       "    <tr>\n",
       "      <th>25%</th>\n",
       "      <td>63.957684</td>\n",
       "      <td>139.876803</td>\n",
       "    </tr>\n",
       "    <tr>\n",
       "      <th>50%</th>\n",
       "      <td>66.985923</td>\n",
       "      <td>168.521567</td>\n",
       "    </tr>\n",
       "    <tr>\n",
       "      <th>75%</th>\n",
       "      <td>69.604427</td>\n",
       "      <td>190.666305</td>\n",
       "    </tr>\n",
       "    <tr>\n",
       "      <th>max</th>\n",
       "      <td>80.450000</td>\n",
       "      <td>269.989698</td>\n",
       "    </tr>\n",
       "  </tbody>\n",
       "</table>\n",
       "</div>"
      ],
      "text/plain": [
       "            Height       Weight\n",
       "count  8555.000000  8555.000000\n",
       "mean     66.809925   165.632735\n",
       "std       3.851454    32.043922\n",
       "min      54.616858    65.780000\n",
       "25%      63.957684   139.876803\n",
       "50%      66.985923   168.521567\n",
       "75%      69.604427   190.666305\n",
       "max      80.450000   269.989698"
      ]
     },
     "execution_count": 115,
     "metadata": {},
     "output_type": "execute_result"
    }
   ],
   "source": [
    "df.describe()"
   ]
  },
  {
   "cell_type": "code",
   "execution_count": 116,
   "id": "809ee7e8-a8b5-4c7d-85b2-4628d6292d48",
   "metadata": {},
   "outputs": [
    {
     "data": {
      "text/plain": [
       "<Axes: xlabel='Height', ylabel='Count'>"
      ]
     },
     "execution_count": 116,
     "metadata": {},
     "output_type": "execute_result"
    },
    {
     "data": {
      "image/png": "[encoded data removed]",
      "text/plain": [
       "<Figure size 640x480 with 1 Axes>"
      ]
     },
     "metadata": {},
     "output_type": "display_data"
    }
   ],
   "source": [
    "sns.histplot(df[\"Height\"],kde=True)"
   ]
  },
  {
   "cell_type": "code",
   "execution_count": 117,
   "id": "86fd1ea4-4cdf-47bf-80c2-4a831dc294a3",
   "metadata": {},
   "outputs": [
    {
     "data": {
      "text/plain": [
       "<Axes: xlabel='Weight', ylabel='Count'>"
      ]
     },
     "execution_count": 117,
     "metadata": {},
     "output_type": "execute_result"
    },
    {
     "data": {
      "image/png": "[encoded data removed]",
      "text/plain": [
       "<Figure size 640x480 with 1 Axes>"
      ]
     },
     "metadata": {},
     "output_type": "display_data"
    }
   ],
   "source": [
    "sns.histplot(df[\"Weight\"],kde=True)"
   ]
  },
  {
   "cell_type": "code",
   "execution_count": 118,
   "id": "40c26f13-a9d0-41c0-ba87-c141daf5982d",
   "metadata": {},
   "outputs": [
    {
     "data": {
      "text/plain": [
       "66.80992512908942"
      ]
     },
     "execution_count": 118,
     "metadata": {},
     "output_type": "execute_result"
    }
   ],
   "source": [
    "df.Height.mean()"
   ]
  },
  {
   "cell_type": "code",
   "execution_count": 119,
   "id": "a10e9e48-614a-4d33-a5cb-22399db2d9ab",
   "metadata": {},
   "outputs": [
    {
     "data": {
      "text/plain": [
       "165.6327353266768"
      ]
     },
     "execution_count": 119,
     "metadata": {},
     "output_type": "execute_result"
    }
   ],
   "source": [
    "df.Weight.mean()"
   ]
  },
  {
   "cell_type": "code",
   "execution_count": 120,
   "id": "8ae0c717-54a4-439b-a3c9-4a44c9c48e06",
   "metadata": {},
   "outputs": [
    {
     "data": {
      "text/plain": [
       "0       54.616858\n",
       "1       54.873728\n",
       "2       55.148557\n",
       "3       55.336492\n",
       "4       55.668202\n",
       "          ...    \n",
       "8550    78.462053\n",
       "8551    78.528210\n",
       "8552    78.621374\n",
       "8553    78.998742\n",
       "8554    80.450000\n",
       "Name: Height, Length: 8555, dtype: float64"
      ]
     },
     "execution_count": 120,
     "metadata": {},
     "output_type": "execute_result"
    }
   ],
   "source": [
    "df.Height.mode()"
   ]
  },
  {
   "cell_type": "code",
   "execution_count": 121,
   "id": "8d8336ae-306b-4bc7-8aef-703a1f0b5685",
   "metadata": {},
   "outputs": [
    {
     "data": {
      "text/plain": [
       "3.8514544315772765"
      ]
     },
     "execution_count": 121,
     "metadata": {},
     "output_type": "execute_result"
    }
   ],
   "source": [
    "df.Height.std()"
   ]
  },
  {
   "cell_type": "code",
   "execution_count": 122,
   "id": "54c3d6ae-4c45-4c6b-b70e-8dfd02f1153b",
   "metadata": {},
   "outputs": [
    {
     "data": {
      "text/plain": [
       "14.833701238516243"
      ]
     },
     "execution_count": 122,
     "metadata": {},
     "output_type": "execute_result"
    }
   ],
   "source": [
    "df.Height.var()"
   ]
  },
  {
   "cell_type": "code",
   "execution_count": 123,
   "id": "24c91a4c-f716-4dd4-b831-db00888d7428",
   "metadata": {},
   "outputs": [],
   "source": [
    "df2=df.copy()\n",
    "df3=df.copy()\n",
    "df4=df.copy()"
   ]
  },
  {
   "cell_type": "code",
   "execution_count": 124,
   "id": "dff62932-45d3-4455-818b-a30e3ba9b061",
   "metadata": {},
   "outputs": [],
   "source": [
    "#Z score"
   ]
  },
  {
   "cell_type": "code",
   "execution_count": 125,
   "id": "34a8e2ad-e0b4-4b67-9d12-51bb5d7802bd",
   "metadata": {},
   "outputs": [],
   "source": [
    "df[\"zscore\"]=(df[\"Height\"] - df[\"Height\"].mean()) / df[\"Height\"].std()"
   ]
  },
  {
   "cell_type": "code",
   "execution_count": 126,
   "id": "d0940bf2-237b-4203-afc4-3226dcb39bcf",
   "metadata": {},
   "outputs": [
    {
     "data": {
      "text/html": [
       "<div>\n",
       "<style scoped>\n",
       "    .dataframe tbody tr th:only-of-type {\n",
       "        vertical-align: middle;\n",
       "    }\n",
       "\n",
       "    .dataframe tbody tr th {\n",
       "        vertical-align: top;\n",
       "    }\n",
       "\n",
       "    .dataframe thead th {\n",
       "        text-align: right;\n",
       "    }\n",
       "</style>\n",
       "<table border=\"1\" class=\"dataframe\">\n",
       "  <thead>\n",
       "    <tr style=\"text-align: right;\">\n",
       "      <th></th>\n",
       "      <th>Gender</th>\n",
       "      <th>Height</th>\n",
       "      <th>Weight</th>\n",
       "      <th>zscore</th>\n",
       "    </tr>\n",
       "  </thead>\n",
       "  <tbody>\n",
       "    <tr>\n",
       "      <th>0</th>\n",
       "      <td>Male</td>\n",
       "      <td>73.847017</td>\n",
       "      <td>241.893563</td>\n",
       "      <td>1.827126</td>\n",
       "    </tr>\n",
       "    <tr>\n",
       "      <th>1</th>\n",
       "      <td>Male</td>\n",
       "      <td>68.781904</td>\n",
       "      <td>162.310473</td>\n",
       "      <td>0.512009</td>\n",
       "    </tr>\n",
       "    <tr>\n",
       "      <th>2</th>\n",
       "      <td>Male</td>\n",
       "      <td>74.110105</td>\n",
       "      <td>212.740856</td>\n",
       "      <td>1.895435</td>\n",
       "    </tr>\n",
       "    <tr>\n",
       "      <th>3</th>\n",
       "      <td>Male</td>\n",
       "      <td>71.730978</td>\n",
       "      <td>220.042470</td>\n",
       "      <td>1.277713</td>\n",
       "    </tr>\n",
       "    <tr>\n",
       "      <th>4</th>\n",
       "      <td>Male</td>\n",
       "      <td>69.881796</td>\n",
       "      <td>206.349801</td>\n",
       "      <td>0.797587</td>\n",
       "    </tr>\n",
       "  </tbody>\n",
       "</table>\n",
       "</div>"
      ],
      "text/plain": [
       "  Gender     Height      Weight    zscore\n",
       "0   Male  73.847017  241.893563  1.827126\n",
       "1   Male  68.781904  162.310473  0.512009\n",
       "2   Male  74.110105  212.740856  1.895435\n",
       "3   Male  71.730978  220.042470  1.277713\n",
       "4   Male  69.881796  206.349801  0.797587"
      ]
     },
     "execution_count": 126,
     "metadata": {},
     "output_type": "execute_result"
    }
   ],
   "source": [
    "df.head()"
   ]
  },
  {
   "cell_type": "code",
   "execution_count": 127,
   "id": "0f304e52-33c6-4964-a599-5c56fddbd771",
   "metadata": {},
   "outputs": [],
   "source": [
    "#standard scaler"
   ]
  },
  {
   "cell_type": "code",
   "execution_count": 128,
   "id": "0e769f87-2d96-4b79-aa37-e6413910e007",
   "metadata": {},
   "outputs": [
    {
     "data": {
      "text/html": [
       "<div>\n",
       "<style scoped>\n",
       "    .dataframe tbody tr th:only-of-type {\n",
       "        vertical-align: middle;\n",
       "    }\n",
       "\n",
       "    .dataframe tbody tr th {\n",
       "        vertical-align: top;\n",
       "    }\n",
       "\n",
       "    .dataframe thead th {\n",
       "        text-align: right;\n",
       "    }\n",
       "</style>\n",
       "<table border=\"1\" class=\"dataframe\">\n",
       "  <thead>\n",
       "    <tr style=\"text-align: right;\">\n",
       "      <th></th>\n",
       "      <th>Gender</th>\n",
       "      <th>Height</th>\n",
       "      <th>Weight</th>\n",
       "      <th>zscore</th>\n",
       "      <th>std_scaler</th>\n",
       "    </tr>\n",
       "  </thead>\n",
       "  <tbody>\n",
       "    <tr>\n",
       "      <th>0</th>\n",
       "      <td>Male</td>\n",
       "      <td>73.847017</td>\n",
       "      <td>241.893563</td>\n",
       "      <td>1.827126</td>\n",
       "      <td>1.827233</td>\n",
       "    </tr>\n",
       "    <tr>\n",
       "      <th>1</th>\n",
       "      <td>Male</td>\n",
       "      <td>68.781904</td>\n",
       "      <td>162.310473</td>\n",
       "      <td>0.512009</td>\n",
       "      <td>0.512039</td>\n",
       "    </tr>\n",
       "    <tr>\n",
       "      <th>2</th>\n",
       "      <td>Male</td>\n",
       "      <td>74.110105</td>\n",
       "      <td>212.740856</td>\n",
       "      <td>1.895435</td>\n",
       "      <td>1.895545</td>\n",
       "    </tr>\n",
       "    <tr>\n",
       "      <th>3</th>\n",
       "      <td>Male</td>\n",
       "      <td>71.730978</td>\n",
       "      <td>220.042470</td>\n",
       "      <td>1.277713</td>\n",
       "      <td>1.277788</td>\n",
       "    </tr>\n",
       "    <tr>\n",
       "      <th>4</th>\n",
       "      <td>Male</td>\n",
       "      <td>69.881796</td>\n",
       "      <td>206.349801</td>\n",
       "      <td>0.797587</td>\n",
       "      <td>0.797634</td>\n",
       "    </tr>\n",
       "  </tbody>\n",
       "</table>\n",
       "</div>"
      ],
      "text/plain": [
       "  Gender     Height      Weight    zscore  std_scaler\n",
       "0   Male  73.847017  241.893563  1.827126    1.827233\n",
       "1   Male  68.781904  162.310473  0.512009    0.512039\n",
       "2   Male  74.110105  212.740856  1.895435    1.895545\n",
       "3   Male  71.730978  220.042470  1.277713    1.277788\n",
       "4   Male  69.881796  206.349801  0.797587    0.797634"
      ]
     },
     "execution_count": 128,
     "metadata": {},
     "output_type": "execute_result"
    }
   ],
   "source": [
    "from sklearn.preprocessing import StandardScaler\n",
    "std=StandardScaler()\n",
    "df[\"std_scaler\"]=std.fit_transform(df[[\"Height\"]])\n",
    "df.head()"
   ]
  },
  {
   "cell_type": "code",
   "execution_count": 129,
   "id": "7826c9c2-0d5d-4261-80c6-f5280efb2f46",
   "metadata": {},
   "outputs": [
    {
     "data": {
      "text/plain": [
       "<Axes: xlabel='zscore', ylabel='Count'>"
      ]
     },
     "execution_count": 129,
     "metadata": {},
     "output_type": "execute_result"
    },
    {
     "data": {
      "image/png": "[encoded data removed]",
      "text/plain": [
       "<Figure size 640x480 with 1 Axes>"
      ]
     },
     "metadata": {},
     "output_type": "display_data"
    }
   ],
   "source": [
    "sns.histplot(df[\"zscore\"],kde=True)"
   ]
  },
  {
   "cell_type": "code",
   "execution_count": 130,
   "id": "0d472d40-545c-4477-949b-9a3ff8210457",
   "metadata": {},
   "outputs": [
    {
     "data": {
      "text/plain": [
       "3.5415386870680425"
      ]
     },
     "execution_count": 130,
     "metadata": {},
     "output_type": "execute_result"
    }
   ],
   "source": [
    "df.zscore.max()"
   ]
  },
  {
   "cell_type": "code",
   "execution_count": 131,
   "id": "2591e54f-d34e-4ea7-bb1f-ec9108075df0",
   "metadata": {},
   "outputs": [
    {
     "data": {
      "text/plain": [
       "-3.165834495955863"
      ]
     },
     "execution_count": 131,
     "metadata": {},
     "output_type": "execute_result"
    }
   ],
   "source": [
    "df.zscore.min()"
   ]
  },
  {
   "cell_type": "code",
   "execution_count": 132,
   "id": "9a456526-cd0f-45e1-8b03-80628181afdc",
   "metadata": {},
   "outputs": [
    {
     "data": {
      "text/plain": [
       "-2.165834495955863"
      ]
     },
     "execution_count": 132,
     "metadata": {},
     "output_type": "execute_result"
    }
   ],
   "source": [
    "df.zscore.min()+1"
   ]
  },
  {
   "cell_type": "code",
   "execution_count": 133,
   "id": "ccf0ff35-c4d2-4ff9-b987-aee5131e7e2b",
   "metadata": {},
   "outputs": [
    {
     "data": {
      "text/plain": [
       "0.9999999999999981"
      ]
     },
     "execution_count": 133,
     "metadata": {},
     "output_type": "execute_result"
    }
   ],
   "source": [
    "df.zscore.std()"
   ]
  },
  {
   "cell_type": "code",
   "execution_count": 134,
   "id": "63c6a937-cbd5-4326-8160-fcada59e5c6d",
   "metadata": {},
   "outputs": [],
   "source": [
    "#REmove outlaier"
   ]
  },
  {
   "cell_type": "code",
   "execution_count": 135,
   "id": "9c0669a3-db26-420a-affd-e57ed1c4ac49",
   "metadata": {},
   "outputs": [],
   "source": [
    "max_z=df.zscore.max()"
   ]
  },
  {
   "cell_type": "code",
   "execution_count": 136,
   "id": "5709041f-f832-4120-8722-233ff7cd0724",
   "metadata": {},
   "outputs": [],
   "source": [
    "min_z=df.zscore.min()"
   ]
  },
  {
   "cell_type": "code",
   "execution_count": 137,
   "id": "bef0fae4-e4cc-4396-848e-414b3c9da56d",
   "metadata": {},
   "outputs": [
    {
     "data": {
      "text/plain": [
       "3.5415386870680425"
      ]
     },
     "execution_count": 137,
     "metadata": {},
     "output_type": "execute_result"
    }
   ],
   "source": [
    "max_z"
   ]
  },
  {
   "cell_type": "code",
   "execution_count": 138,
   "id": "1f569c6d-08c2-4a6a-877e-04dde74733f6",
   "metadata": {},
   "outputs": [
    {
     "data": {
      "text/plain": [
       "-3.165834495955863"
      ]
     },
     "execution_count": 138,
     "metadata": {},
     "output_type": "execute_result"
    }
   ],
   "source": [
    "min_z"
   ]
  },
  {
   "cell_type": "code",
   "execution_count": 139,
   "id": "29f4e802-0287-4356-a727-5763800d40c8",
   "metadata": {},
   "outputs": [
    {
     "data": {
      "text/html": [
       "<div>\n",
       "<style scoped>\n",
       "    .dataframe tbody tr th:only-of-type {\n",
       "        vertical-align: middle;\n",
       "    }\n",
       "\n",
       "    .dataframe tbody tr th {\n",
       "        vertical-align: top;\n",
       "    }\n",
       "\n",
       "    .dataframe thead th {\n",
       "        text-align: right;\n",
       "    }\n",
       "</style>\n",
       "<table border=\"1\" class=\"dataframe\">\n",
       "  <thead>\n",
       "    <tr style=\"text-align: right;\">\n",
       "      <th></th>\n",
       "      <th>Gender</th>\n",
       "      <th>Height</th>\n",
       "      <th>Weight</th>\n",
       "      <th>zscore</th>\n",
       "      <th>std_scaler</th>\n",
       "    </tr>\n",
       "  </thead>\n",
       "  <tbody>\n",
       "    <tr>\n",
       "      <th>23</th>\n",
       "      <td>Male</td>\n",
       "      <td>75.205974</td>\n",
       "      <td>228.761781</td>\n",
       "      <td>2.179968</td>\n",
       "      <td>2.180096</td>\n",
       "    </tr>\n",
       "    <tr>\n",
       "      <th>190</th>\n",
       "      <td>Male</td>\n",
       "      <td>76.709835</td>\n",
       "      <td>235.035419</td>\n",
       "      <td>2.570434</td>\n",
       "      <td>2.570584</td>\n",
       "    </tr>\n",
       "    <tr>\n",
       "      <th>197</th>\n",
       "      <td>Male</td>\n",
       "      <td>75.944460</td>\n",
       "      <td>231.924748</td>\n",
       "      <td>2.371711</td>\n",
       "      <td>2.371849</td>\n",
       "    </tr>\n",
       "    <tr>\n",
       "      <th>202</th>\n",
       "      <td>Male</td>\n",
       "      <td>75.140821</td>\n",
       "      <td>224.124271</td>\n",
       "      <td>2.163052</td>\n",
       "      <td>2.163178</td>\n",
       "    </tr>\n",
       "    <tr>\n",
       "      <th>215</th>\n",
       "      <td>Male</td>\n",
       "      <td>74.795375</td>\n",
       "      <td>232.635403</td>\n",
       "      <td>2.073360</td>\n",
       "      <td>2.073481</td>\n",
       "    </tr>\n",
       "    <tr>\n",
       "      <th>...</th>\n",
       "      <td>...</td>\n",
       "      <td>...</td>\n",
       "      <td>...</td>\n",
       "      <td>...</td>\n",
       "      <td>...</td>\n",
       "    </tr>\n",
       "    <tr>\n",
       "      <th>4772</th>\n",
       "      <td>Male</td>\n",
       "      <td>74.677471</td>\n",
       "      <td>218.845026</td>\n",
       "      <td>2.042747</td>\n",
       "      <td>2.042866</td>\n",
       "    </tr>\n",
       "    <tr>\n",
       "      <th>4807</th>\n",
       "      <td>Male</td>\n",
       "      <td>74.529455</td>\n",
       "      <td>225.540079</td>\n",
       "      <td>2.004315</td>\n",
       "      <td>2.004433</td>\n",
       "    </tr>\n",
       "    <tr>\n",
       "      <th>4825</th>\n",
       "      <td>Male</td>\n",
       "      <td>74.975231</td>\n",
       "      <td>214.495489</td>\n",
       "      <td>2.120058</td>\n",
       "      <td>2.120182</td>\n",
       "    </tr>\n",
       "    <tr>\n",
       "      <th>4843</th>\n",
       "      <td>Male</td>\n",
       "      <td>74.650540</td>\n",
       "      <td>213.320520</td>\n",
       "      <td>2.035754</td>\n",
       "      <td>2.035873</td>\n",
       "    </tr>\n",
       "    <tr>\n",
       "      <th>6328</th>\n",
       "      <td>Female</td>\n",
       "      <td>80.450000</td>\n",
       "      <td>178.020675</td>\n",
       "      <td>3.541539</td>\n",
       "      <td>3.541746</td>\n",
       "    </tr>\n",
       "  </tbody>\n",
       "</table>\n",
       "<p>128 rows × 5 columns</p>\n",
       "</div>"
      ],
      "text/plain": [
       "      Gender     Height      Weight    zscore  std_scaler\n",
       "23      Male  75.205974  228.761781  2.179968    2.180096\n",
       "190     Male  76.709835  235.035419  2.570434    2.570584\n",
       "197     Male  75.944460  231.924748  2.371711    2.371849\n",
       "202     Male  75.140821  224.124271  2.163052    2.163178\n",
       "215     Male  74.795375  232.635403  2.073360    2.073481\n",
       "...      ...        ...         ...       ...         ...\n",
       "4772    Male  74.677471  218.845026  2.042747    2.042866\n",
       "4807    Male  74.529455  225.540079  2.004315    2.004433\n",
       "4825    Male  74.975231  214.495489  2.120058    2.120182\n",
       "4843    Male  74.650540  213.320520  2.035754    2.035873\n",
       "6328  Female  80.450000  178.020675  3.541539    3.541746\n",
       "\n",
       "[128 rows x 5 columns]"
      ]
     },
     "execution_count": 139,
     "metadata": {},
     "output_type": "execute_result"
    }
   ],
   "source": [
    "df[(df[\"zscore\"]>2)]"
   ]
  },
  {
   "cell_type": "code",
   "execution_count": 140,
   "id": "e9da6715-7f0a-40f7-946f-b1a73c13767f",
   "metadata": {},
   "outputs": [
    {
     "data": {
      "text/html": [
       "<div>\n",
       "<style scoped>\n",
       "    .dataframe tbody tr th:only-of-type {\n",
       "        vertical-align: middle;\n",
       "    }\n",
       "\n",
       "    .dataframe tbody tr th {\n",
       "        vertical-align: top;\n",
       "    }\n",
       "\n",
       "    .dataframe thead th {\n",
       "        text-align: right;\n",
       "    }\n",
       "</style>\n",
       "<table border=\"1\" class=\"dataframe\">\n",
       "  <thead>\n",
       "    <tr style=\"text-align: right;\">\n",
       "      <th></th>\n",
       "      <th>Gender</th>\n",
       "      <th>Height</th>\n",
       "      <th>Weight</th>\n",
       "      <th>zscore</th>\n",
       "      <th>std_scaler</th>\n",
       "    </tr>\n",
       "  </thead>\n",
       "  <tbody>\n",
       "    <tr>\n",
       "      <th>4794</th>\n",
       "      <td>Male</td>\n",
       "      <td>58.406905</td>\n",
       "      <td>121.338323</td>\n",
       "      <td>-2.181778</td>\n",
       "      <td>-2.181906</td>\n",
       "    </tr>\n",
       "    <tr>\n",
       "      <th>5000</th>\n",
       "      <td>Female</td>\n",
       "      <td>58.910732</td>\n",
       "      <td>102.088326</td>\n",
       "      <td>-2.050964</td>\n",
       "      <td>-2.051084</td>\n",
       "    </tr>\n",
       "    <tr>\n",
       "      <th>5013</th>\n",
       "      <td>Female</td>\n",
       "      <td>58.895886</td>\n",
       "      <td>101.682613</td>\n",
       "      <td>-2.054818</td>\n",
       "      <td>-2.054938</td>\n",
       "    </tr>\n",
       "    <tr>\n",
       "      <th>5014</th>\n",
       "      <td>Female</td>\n",
       "      <td>58.438249</td>\n",
       "      <td>98.192621</td>\n",
       "      <td>-2.173640</td>\n",
       "      <td>-2.173767</td>\n",
       "    </tr>\n",
       "    <tr>\n",
       "      <th>5026</th>\n",
       "      <td>Female</td>\n",
       "      <td>56.547975</td>\n",
       "      <td>84.872124</td>\n",
       "      <td>-2.664435</td>\n",
       "      <td>-2.664591</td>\n",
       "    </tr>\n",
       "    <tr>\n",
       "      <th>...</th>\n",
       "      <td>...</td>\n",
       "      <td>...</td>\n",
       "      <td>...</td>\n",
       "      <td>...</td>\n",
       "      <td>...</td>\n",
       "    </tr>\n",
       "    <tr>\n",
       "      <th>8437</th>\n",
       "      <td>Female</td>\n",
       "      <td>58.757371</td>\n",
       "      <td>111.657340</td>\n",
       "      <td>-2.090783</td>\n",
       "      <td>-2.090905</td>\n",
       "    </tr>\n",
       "    <tr>\n",
       "      <th>8448</th>\n",
       "      <td>Female</td>\n",
       "      <td>58.996287</td>\n",
       "      <td>107.839015</td>\n",
       "      <td>-2.028750</td>\n",
       "      <td>-2.028869</td>\n",
       "    </tr>\n",
       "    <tr>\n",
       "      <th>8455</th>\n",
       "      <td>Female</td>\n",
       "      <td>58.187141</td>\n",
       "      <td>104.472382</td>\n",
       "      <td>-2.238838</td>\n",
       "      <td>-2.238969</td>\n",
       "    </tr>\n",
       "    <tr>\n",
       "      <th>8493</th>\n",
       "      <td>Female</td>\n",
       "      <td>58.892474</td>\n",
       "      <td>104.423462</td>\n",
       "      <td>-2.055704</td>\n",
       "      <td>-2.055824</td>\n",
       "    </tr>\n",
       "    <tr>\n",
       "      <th>8514</th>\n",
       "      <td>Female</td>\n",
       "      <td>58.155888</td>\n",
       "      <td>95.678872</td>\n",
       "      <td>-2.246953</td>\n",
       "      <td>-2.247084</td>\n",
       "    </tr>\n",
       "  </tbody>\n",
       "</table>\n",
       "<p>171 rows × 5 columns</p>\n",
       "</div>"
      ],
      "text/plain": [
       "      Gender     Height      Weight    zscore  std_scaler\n",
       "4794    Male  58.406905  121.338323 -2.181778   -2.181906\n",
       "5000  Female  58.910732  102.088326 -2.050964   -2.051084\n",
       "5013  Female  58.895886  101.682613 -2.054818   -2.054938\n",
       "5014  Female  58.438249   98.192621 -2.173640   -2.173767\n",
       "5026  Female  56.547975   84.872124 -2.664435   -2.664591\n",
       "...      ...        ...         ...       ...         ...\n",
       "8437  Female  58.757371  111.657340 -2.090783   -2.090905\n",
       "8448  Female  58.996287  107.839015 -2.028750   -2.028869\n",
       "8455  Female  58.187141  104.472382 -2.238838   -2.238969\n",
       "8493  Female  58.892474  104.423462 -2.055704   -2.055824\n",
       "8514  Female  58.155888   95.678872 -2.246953   -2.247084\n",
       "\n",
       "[171 rows x 5 columns]"
      ]
     },
     "execution_count": 140,
     "metadata": {},
     "output_type": "execute_result"
    }
   ],
   "source": [
    "df[(df[\"zscore\"]<-2)]"
   ]
  },
  {
   "cell_type": "code",
   "execution_count": 141,
   "id": "172a1790-6c42-48ec-93d6-35ff4a542e4a",
   "metadata": {},
   "outputs": [
    {
     "data": {
      "text/html": [
       "<div>\n",
       "<style scoped>\n",
       "    .dataframe tbody tr th:only-of-type {\n",
       "        vertical-align: middle;\n",
       "    }\n",
       "\n",
       "    .dataframe tbody tr th {\n",
       "        vertical-align: top;\n",
       "    }\n",
       "\n",
       "    .dataframe thead th {\n",
       "        text-align: right;\n",
       "    }\n",
       "</style>\n",
       "<table border=\"1\" class=\"dataframe\">\n",
       "  <thead>\n",
       "    <tr style=\"text-align: right;\">\n",
       "      <th></th>\n",
       "      <th>Gender</th>\n",
       "      <th>Height</th>\n",
       "      <th>Weight</th>\n",
       "      <th>zscore</th>\n",
       "      <th>std_scaler</th>\n",
       "    </tr>\n",
       "  </thead>\n",
       "  <tbody>\n",
       "    <tr>\n",
       "      <th>0</th>\n",
       "      <td>Male</td>\n",
       "      <td>73.847017</td>\n",
       "      <td>241.893563</td>\n",
       "      <td>1.827126</td>\n",
       "      <td>1.827233</td>\n",
       "    </tr>\n",
       "    <tr>\n",
       "      <th>1</th>\n",
       "      <td>Male</td>\n",
       "      <td>68.781904</td>\n",
       "      <td>162.310473</td>\n",
       "      <td>0.512009</td>\n",
       "      <td>0.512039</td>\n",
       "    </tr>\n",
       "    <tr>\n",
       "      <th>2</th>\n",
       "      <td>Male</td>\n",
       "      <td>74.110105</td>\n",
       "      <td>212.740856</td>\n",
       "      <td>1.895435</td>\n",
       "      <td>1.895545</td>\n",
       "    </tr>\n",
       "    <tr>\n",
       "      <th>3</th>\n",
       "      <td>Male</td>\n",
       "      <td>71.730978</td>\n",
       "      <td>220.042470</td>\n",
       "      <td>1.277713</td>\n",
       "      <td>1.277788</td>\n",
       "    </tr>\n",
       "    <tr>\n",
       "      <th>4</th>\n",
       "      <td>Male</td>\n",
       "      <td>69.881796</td>\n",
       "      <td>206.349801</td>\n",
       "      <td>0.797587</td>\n",
       "      <td>0.797634</td>\n",
       "    </tr>\n",
       "    <tr>\n",
       "      <th>...</th>\n",
       "      <td>...</td>\n",
       "      <td>...</td>\n",
       "      <td>...</td>\n",
       "      <td>...</td>\n",
       "      <td>...</td>\n",
       "    </tr>\n",
       "    <tr>\n",
       "      <th>8550</th>\n",
       "      <td>Female</td>\n",
       "      <td>60.483946</td>\n",
       "      <td>110.565497</td>\n",
       "      <td>-1.642491</td>\n",
       "      <td>-1.642587</td>\n",
       "    </tr>\n",
       "    <tr>\n",
       "      <th>8551</th>\n",
       "      <td>Female</td>\n",
       "      <td>63.423372</td>\n",
       "      <td>129.921671</td>\n",
       "      <td>-0.879292</td>\n",
       "      <td>-0.879344</td>\n",
       "    </tr>\n",
       "    <tr>\n",
       "      <th>8552</th>\n",
       "      <td>Female</td>\n",
       "      <td>65.584057</td>\n",
       "      <td>155.942671</td>\n",
       "      <td>-0.318287</td>\n",
       "      <td>-0.318306</td>\n",
       "    </tr>\n",
       "    <tr>\n",
       "      <th>8553</th>\n",
       "      <td>Female</td>\n",
       "      <td>67.429971</td>\n",
       "      <td>151.678405</td>\n",
       "      <td>0.160990</td>\n",
       "      <td>0.161000</td>\n",
       "    </tr>\n",
       "    <tr>\n",
       "      <th>8554</th>\n",
       "      <td>Female</td>\n",
       "      <td>60.921791</td>\n",
       "      <td>131.253738</td>\n",
       "      <td>-1.528808</td>\n",
       "      <td>-1.528897</td>\n",
       "    </tr>\n",
       "  </tbody>\n",
       "</table>\n",
       "<p>8547 rows × 5 columns</p>\n",
       "</div>"
      ],
      "text/plain": [
       "      Gender     Height      Weight    zscore  std_scaler\n",
       "0       Male  73.847017  241.893563  1.827126    1.827233\n",
       "1       Male  68.781904  162.310473  0.512009    0.512039\n",
       "2       Male  74.110105  212.740856  1.895435    1.895545\n",
       "3       Male  71.730978  220.042470  1.277713    1.277788\n",
       "4       Male  69.881796  206.349801  0.797587    0.797634\n",
       "...      ...        ...         ...       ...         ...\n",
       "8550  Female  60.483946  110.565497 -1.642491   -1.642587\n",
       "8551  Female  63.423372  129.921671 -0.879292   -0.879344\n",
       "8552  Female  65.584057  155.942671 -0.318287   -0.318306\n",
       "8553  Female  67.429971  151.678405  0.160990    0.161000\n",
       "8554  Female  60.921791  131.253738 -1.528808   -1.528897\n",
       "\n",
       "[8547 rows x 5 columns]"
      ]
     },
     "execution_count": 141,
     "metadata": {},
     "output_type": "execute_result"
    }
   ],
   "source": [
    "After_remove_outlayers=df[(df[\"zscore\"]<3) &(df[\"zscore\"]>-3)]\n",
    "After_remove_outlayers"
   ]
  },
  {
   "cell_type": "code",
   "execution_count": 142,
   "id": "56992f15-7e74-4c64-9a32-d3b48122d2ba",
   "metadata": {},
   "outputs": [
    {
     "data": {
      "text/plain": [
       "(8555, 5)"
      ]
     },
     "execution_count": 142,
     "metadata": {},
     "output_type": "execute_result"
    }
   ],
   "source": [
    "df.shape"
   ]
  },
  {
   "cell_type": "code",
   "execution_count": 143,
   "id": "c310fcf2-01fa-4571-9a8a-fd132e3f510c",
   "metadata": {},
   "outputs": [],
   "source": [
    "#who are the outlayers"
   ]
  },
  {
   "cell_type": "code",
   "execution_count": 144,
   "id": "5beac089-374e-415d-8824-acc1d759a2d6",
   "metadata": {},
   "outputs": [
    {
     "data": {
      "text/html": [
       "<div>\n",
       "<style scoped>\n",
       "    .dataframe tbody tr th:only-of-type {\n",
       "        vertical-align: middle;\n",
       "    }\n",
       "\n",
       "    .dataframe tbody tr th {\n",
       "        vertical-align: top;\n",
       "    }\n",
       "\n",
       "    .dataframe thead th {\n",
       "        text-align: right;\n",
       "    }\n",
       "</style>\n",
       "<table border=\"1\" class=\"dataframe\">\n",
       "  <thead>\n",
       "    <tr style=\"text-align: right;\">\n",
       "      <th></th>\n",
       "      <th>Gender</th>\n",
       "      <th>Height</th>\n",
       "      <th>Weight</th>\n",
       "      <th>zscore</th>\n",
       "      <th>std_scaler</th>\n",
       "    </tr>\n",
       "  </thead>\n",
       "  <tbody>\n",
       "    <tr>\n",
       "      <th>1317</th>\n",
       "      <td>Male</td>\n",
       "      <td>78.462053</td>\n",
       "      <td>227.342565</td>\n",
       "      <td>3.025384</td>\n",
       "      <td>3.025561</td>\n",
       "    </tr>\n",
       "    <tr>\n",
       "      <th>2014</th>\n",
       "      <td>Male</td>\n",
       "      <td>78.998742</td>\n",
       "      <td>269.989698</td>\n",
       "      <td>3.164731</td>\n",
       "      <td>3.164916</td>\n",
       "    </tr>\n",
       "    <tr>\n",
       "      <th>3285</th>\n",
       "      <td>Male</td>\n",
       "      <td>78.528210</td>\n",
       "      <td>253.889004</td>\n",
       "      <td>3.042561</td>\n",
       "      <td>3.042739</td>\n",
       "    </tr>\n",
       "    <tr>\n",
       "      <th>3757</th>\n",
       "      <td>Male</td>\n",
       "      <td>78.621374</td>\n",
       "      <td>245.733783</td>\n",
       "      <td>3.066750</td>\n",
       "      <td>3.066930</td>\n",
       "    </tr>\n",
       "    <tr>\n",
       "      <th>6328</th>\n",
       "      <td>Female</td>\n",
       "      <td>80.450000</td>\n",
       "      <td>178.020675</td>\n",
       "      <td>3.541539</td>\n",
       "      <td>3.541746</td>\n",
       "    </tr>\n",
       "    <tr>\n",
       "      <th>6624</th>\n",
       "      <td>Female</td>\n",
       "      <td>54.616858</td>\n",
       "      <td>71.393749</td>\n",
       "      <td>-3.165834</td>\n",
       "      <td>-3.166020</td>\n",
       "    </tr>\n",
       "    <tr>\n",
       "      <th>7294</th>\n",
       "      <td>Female</td>\n",
       "      <td>54.873728</td>\n",
       "      <td>78.606670</td>\n",
       "      <td>-3.099140</td>\n",
       "      <td>-3.099321</td>\n",
       "    </tr>\n",
       "    <tr>\n",
       "      <th>7617</th>\n",
       "      <td>Female</td>\n",
       "      <td>55.148557</td>\n",
       "      <td>88.812412</td>\n",
       "      <td>-3.027783</td>\n",
       "      <td>-3.027960</td>\n",
       "    </tr>\n",
       "  </tbody>\n",
       "</table>\n",
       "</div>"
      ],
      "text/plain": [
       "      Gender     Height      Weight    zscore  std_scaler\n",
       "1317    Male  78.462053  227.342565  3.025384    3.025561\n",
       "2014    Male  78.998742  269.989698  3.164731    3.164916\n",
       "3285    Male  78.528210  253.889004  3.042561    3.042739\n",
       "3757    Male  78.621374  245.733783  3.066750    3.066930\n",
       "6328  Female  80.450000  178.020675  3.541539    3.541746\n",
       "6624  Female  54.616858   71.393749 -3.165834   -3.166020\n",
       "7294  Female  54.873728   78.606670 -3.099140   -3.099321\n",
       "7617  Female  55.148557   88.812412 -3.027783   -3.027960"
      ]
     },
     "execution_count": 144,
     "metadata": {},
     "output_type": "execute_result"
    }
   ],
   "source": [
    "df[(df[\"zscore\"] >3)|(df[\"zscore\"]<-3)]"
   ]
  },
  {
   "cell_type": "code",
   "execution_count": 145,
   "id": "e205550a-26ea-4773-8bf0-79c472e8218b",
   "metadata": {},
   "outputs": [
    {
     "data": {
      "text/plain": [
       "(8555, 5)"
      ]
     },
     "execution_count": 145,
     "metadata": {},
     "output_type": "execute_result"
    }
   ],
   "source": [
    "df.shape"
   ]
  },
  {
   "cell_type": "code",
   "execution_count": 146,
   "id": "434a3479-d504-4d4d-a6e1-08c216f77f5f",
   "metadata": {},
   "outputs": [
    {
     "data": {
      "text/html": [
       "<div>\n",
       "<style scoped>\n",
       "    .dataframe tbody tr th:only-of-type {\n",
       "        vertical-align: middle;\n",
       "    }\n",
       "\n",
       "    .dataframe tbody tr th {\n",
       "        vertical-align: top;\n",
       "    }\n",
       "\n",
       "    .dataframe thead th {\n",
       "        text-align: right;\n",
       "    }\n",
       "</style>\n",
       "<table border=\"1\" class=\"dataframe\">\n",
       "  <thead>\n",
       "    <tr style=\"text-align: right;\">\n",
       "      <th></th>\n",
       "      <th>Gender</th>\n",
       "      <th>Height</th>\n",
       "      <th>Weight</th>\n",
       "      <th>zscore</th>\n",
       "      <th>std_scaler</th>\n",
       "    </tr>\n",
       "  </thead>\n",
       "  <tbody>\n",
       "    <tr>\n",
       "      <th>1317</th>\n",
       "      <td>Male</td>\n",
       "      <td>78.462053</td>\n",
       "      <td>227.342565</td>\n",
       "      <td>3.025384</td>\n",
       "      <td>3.025561</td>\n",
       "    </tr>\n",
       "    <tr>\n",
       "      <th>2014</th>\n",
       "      <td>Male</td>\n",
       "      <td>78.998742</td>\n",
       "      <td>269.989698</td>\n",
       "      <td>3.164731</td>\n",
       "      <td>3.164916</td>\n",
       "    </tr>\n",
       "    <tr>\n",
       "      <th>3285</th>\n",
       "      <td>Male</td>\n",
       "      <td>78.528210</td>\n",
       "      <td>253.889004</td>\n",
       "      <td>3.042561</td>\n",
       "      <td>3.042739</td>\n",
       "    </tr>\n",
       "    <tr>\n",
       "      <th>3757</th>\n",
       "      <td>Male</td>\n",
       "      <td>78.621374</td>\n",
       "      <td>245.733783</td>\n",
       "      <td>3.066750</td>\n",
       "      <td>3.066930</td>\n",
       "    </tr>\n",
       "    <tr>\n",
       "      <th>6328</th>\n",
       "      <td>Female</td>\n",
       "      <td>80.450000</td>\n",
       "      <td>178.020675</td>\n",
       "      <td>3.541539</td>\n",
       "      <td>3.541746</td>\n",
       "    </tr>\n",
       "  </tbody>\n",
       "</table>\n",
       "</div>"
      ],
      "text/plain": [
       "      Gender     Height      Weight    zscore  std_scaler\n",
       "1317    Male  78.462053  227.342565  3.025384    3.025561\n",
       "2014    Male  78.998742  269.989698  3.164731    3.164916\n",
       "3285    Male  78.528210  253.889004  3.042561    3.042739\n",
       "3757    Male  78.621374  245.733783  3.066750    3.066930\n",
       "6328  Female  80.450000  178.020675  3.541539    3.541746"
      ]
     },
     "execution_count": 146,
     "metadata": {},
     "output_type": "execute_result"
    }
   ],
   "source": [
    "df[df[\"zscore\"]>3]"
   ]
  },
  {
   "cell_type": "code",
   "execution_count": 147,
   "id": "af5731b8-b071-423d-9fb5-13e84ea7bf44",
   "metadata": {},
   "outputs": [
    {
     "data": {
      "text/html": [
       "<div>\n",
       "<style scoped>\n",
       "    .dataframe tbody tr th:only-of-type {\n",
       "        vertical-align: middle;\n",
       "    }\n",
       "\n",
       "    .dataframe tbody tr th {\n",
       "        vertical-align: top;\n",
       "    }\n",
       "\n",
       "    .dataframe thead th {\n",
       "        text-align: right;\n",
       "    }\n",
       "</style>\n",
       "<table border=\"1\" class=\"dataframe\">\n",
       "  <thead>\n",
       "    <tr style=\"text-align: right;\">\n",
       "      <th></th>\n",
       "      <th>Gender</th>\n",
       "      <th>Height</th>\n",
       "      <th>Weight</th>\n",
       "      <th>zscore</th>\n",
       "      <th>std_scaler</th>\n",
       "    </tr>\n",
       "  </thead>\n",
       "  <tbody>\n",
       "    <tr>\n",
       "      <th>6624</th>\n",
       "      <td>Female</td>\n",
       "      <td>54.616858</td>\n",
       "      <td>71.393749</td>\n",
       "      <td>-3.165834</td>\n",
       "      <td>-3.166020</td>\n",
       "    </tr>\n",
       "    <tr>\n",
       "      <th>7294</th>\n",
       "      <td>Female</td>\n",
       "      <td>54.873728</td>\n",
       "      <td>78.606670</td>\n",
       "      <td>-3.099140</td>\n",
       "      <td>-3.099321</td>\n",
       "    </tr>\n",
       "    <tr>\n",
       "      <th>7617</th>\n",
       "      <td>Female</td>\n",
       "      <td>55.148557</td>\n",
       "      <td>88.812412</td>\n",
       "      <td>-3.027783</td>\n",
       "      <td>-3.027960</td>\n",
       "    </tr>\n",
       "  </tbody>\n",
       "</table>\n",
       "</div>"
      ],
      "text/plain": [
       "      Gender     Height     Weight    zscore  std_scaler\n",
       "6624  Female  54.616858  71.393749 -3.165834   -3.166020\n",
       "7294  Female  54.873728  78.606670 -3.099140   -3.099321\n",
       "7617  Female  55.148557  88.812412 -3.027783   -3.027960"
      ]
     },
     "execution_count": 147,
     "metadata": {},
     "output_type": "execute_result"
    }
   ],
   "source": [
    "df[df[\"zscore\"]<-3]"
   ]
  },
  {
   "cell_type": "code",
   "execution_count": 148,
   "id": "d6518d07-79b1-47ee-bf2e-aa0d415cc5e9",
   "metadata": {},
   "outputs": [
    {
     "data": {
      "text/plain": [
       "<Axes: xlabel='Height', ylabel='Count'>"
      ]
     },
     "execution_count": 148,
     "metadata": {},
     "output_type": "execute_result"
    },
    {
     "data": {
      "image/png": "[encoded data removed]",
      "text/plain": [
       "<Figure size 640x480 with 1 Axes>"
      ]
     },
     "metadata": {},
     "output_type": "display_data"
    }
   ],
   "source": [
    "sns.histplot(After_remove_outlayers[\"Height\"],kde=True)"
   ]
  },
  {
   "cell_type": "code",
   "execution_count": 149,
   "id": "250c2556-c514-4d60-8bdf-daf27392539b",
   "metadata": {},
   "outputs": [],
   "source": [
    "#std"
   ]
  },
  {
   "cell_type": "code",
   "execution_count": 150,
   "id": "c4ffbd2a-c59f-49fa-b567-e5775bb5f8c0",
   "metadata": {},
   "outputs": [
    {
     "data": {
      "text/plain": [
       "<Axes: xlabel='Height', ylabel='Count'>"
      ]
     },
     "execution_count": 150,
     "metadata": {},
     "output_type": "execute_result"
    },
    {
     "data": {
      "image/png": "[encoded data removed]",
      "text/plain": [
       "<Figure size 640x480 with 1 Axes>"
      ]
     },
     "metadata": {},
     "output_type": "display_data"
    }
   ],
   "source": [
    "sns.histplot(df[\"Height\"],kde=True)"
   ]
  },
  {
   "cell_type": "code",
   "execution_count": 151,
   "id": "c1e39ddb-99dc-480b-b7c0-6807f2eb891a",
   "metadata": {},
   "outputs": [],
   "source": [
    "mean= df2.Height.mean()"
   ]
  },
  {
   "cell_type": "code",
   "execution_count": 152,
   "id": "425a6422-ea96-4207-81c9-df858b2784aa",
   "metadata": {},
   "outputs": [],
   "source": [
    "std=df2.Height.std()"
   ]
  },
  {
   "cell_type": "code",
   "execution_count": 153,
   "id": "ad193a7e-e694-4aa1-aeed-9b1d946bf6b5",
   "metadata": {},
   "outputs": [],
   "source": [
    "sigma_3= mean +(3*std)\n",
    "sigma_3_neg=mean -(3*std)"
   ]
  },
  {
   "cell_type": "code",
   "execution_count": 154,
   "id": "bd2baf07-775b-4e82-8e5c-e1a14e997ac4",
   "metadata": {},
   "outputs": [
    {
     "data": {
      "text/plain": [
       "78.36428842382125"
      ]
     },
     "execution_count": 154,
     "metadata": {},
     "output_type": "execute_result"
    }
   ],
   "source": [
    "sigma_3"
   ]
  },
  {
   "cell_type": "code",
   "execution_count": 155,
   "id": "7358b67f-0567-4b41-88ea-dd49ad0334cd",
   "metadata": {},
   "outputs": [
    {
     "data": {
      "text/plain": [
       "55.25556183435759"
      ]
     },
     "execution_count": 155,
     "metadata": {},
     "output_type": "execute_result"
    }
   ],
   "source": [
    "sigma_3_neg"
   ]
  },
  {
   "cell_type": "code",
   "execution_count": 156,
   "id": "c1d497d6-013a-4705-b40f-983cb4c6055c",
   "metadata": {},
   "outputs": [
    {
     "data": {
      "text/html": [
       "<div>\n",
       "<style scoped>\n",
       "    .dataframe tbody tr th:only-of-type {\n",
       "        vertical-align: middle;\n",
       "    }\n",
       "\n",
       "    .dataframe tbody tr th {\n",
       "        vertical-align: top;\n",
       "    }\n",
       "\n",
       "    .dataframe thead th {\n",
       "        text-align: right;\n",
       "    }\n",
       "</style>\n",
       "<table border=\"1\" class=\"dataframe\">\n",
       "  <thead>\n",
       "    <tr style=\"text-align: right;\">\n",
       "      <th></th>\n",
       "      <th>Gender</th>\n",
       "      <th>Height</th>\n",
       "      <th>Weight</th>\n",
       "    </tr>\n",
       "  </thead>\n",
       "  <tbody>\n",
       "    <tr>\n",
       "      <th>1317</th>\n",
       "      <td>Male</td>\n",
       "      <td>78.462053</td>\n",
       "      <td>227.342565</td>\n",
       "    </tr>\n",
       "    <tr>\n",
       "      <th>2014</th>\n",
       "      <td>Male</td>\n",
       "      <td>78.998742</td>\n",
       "      <td>269.989698</td>\n",
       "    </tr>\n",
       "    <tr>\n",
       "      <th>3285</th>\n",
       "      <td>Male</td>\n",
       "      <td>78.528210</td>\n",
       "      <td>253.889004</td>\n",
       "    </tr>\n",
       "    <tr>\n",
       "      <th>3757</th>\n",
       "      <td>Male</td>\n",
       "      <td>78.621374</td>\n",
       "      <td>245.733783</td>\n",
       "    </tr>\n",
       "    <tr>\n",
       "      <th>6328</th>\n",
       "      <td>Female</td>\n",
       "      <td>80.450000</td>\n",
       "      <td>178.020675</td>\n",
       "    </tr>\n",
       "  </tbody>\n",
       "</table>\n",
       "</div>"
      ],
      "text/plain": [
       "      Gender     Height      Weight\n",
       "1317    Male  78.462053  227.342565\n",
       "2014    Male  78.998742  269.989698\n",
       "3285    Male  78.528210  253.889004\n",
       "3757    Male  78.621374  245.733783\n",
       "6328  Female  80.450000  178.020675"
      ]
     },
     "execution_count": 156,
     "metadata": {},
     "output_type": "execute_result"
    }
   ],
   "source": [
    "df2[(df[\"Height\"]>sigma_3)]"
   ]
  },
  {
   "cell_type": "code",
   "execution_count": 157,
   "id": "68b41657-5125-4d95-baf4-b4e45afd5106",
   "metadata": {},
   "outputs": [
    {
     "data": {
      "text/html": [
       "<div>\n",
       "<style scoped>\n",
       "    .dataframe tbody tr th:only-of-type {\n",
       "        vertical-align: middle;\n",
       "    }\n",
       "\n",
       "    .dataframe tbody tr th {\n",
       "        vertical-align: top;\n",
       "    }\n",
       "\n",
       "    .dataframe thead th {\n",
       "        text-align: right;\n",
       "    }\n",
       "</style>\n",
       "<table border=\"1\" class=\"dataframe\">\n",
       "  <thead>\n",
       "    <tr style=\"text-align: right;\">\n",
       "      <th></th>\n",
       "      <th>Gender</th>\n",
       "      <th>Height</th>\n",
       "      <th>Weight</th>\n",
       "      <th>zscore</th>\n",
       "      <th>std_scaler</th>\n",
       "    </tr>\n",
       "  </thead>\n",
       "  <tbody>\n",
       "    <tr>\n",
       "      <th>1317</th>\n",
       "      <td>Male</td>\n",
       "      <td>78.462053</td>\n",
       "      <td>227.342565</td>\n",
       "      <td>3.025384</td>\n",
       "      <td>3.025561</td>\n",
       "    </tr>\n",
       "    <tr>\n",
       "      <th>2014</th>\n",
       "      <td>Male</td>\n",
       "      <td>78.998742</td>\n",
       "      <td>269.989698</td>\n",
       "      <td>3.164731</td>\n",
       "      <td>3.164916</td>\n",
       "    </tr>\n",
       "    <tr>\n",
       "      <th>3285</th>\n",
       "      <td>Male</td>\n",
       "      <td>78.528210</td>\n",
       "      <td>253.889004</td>\n",
       "      <td>3.042561</td>\n",
       "      <td>3.042739</td>\n",
       "    </tr>\n",
       "    <tr>\n",
       "      <th>3757</th>\n",
       "      <td>Male</td>\n",
       "      <td>78.621374</td>\n",
       "      <td>245.733783</td>\n",
       "      <td>3.066750</td>\n",
       "      <td>3.066930</td>\n",
       "    </tr>\n",
       "    <tr>\n",
       "      <th>6328</th>\n",
       "      <td>Female</td>\n",
       "      <td>80.450000</td>\n",
       "      <td>178.020675</td>\n",
       "      <td>3.541539</td>\n",
       "      <td>3.541746</td>\n",
       "    </tr>\n",
       "  </tbody>\n",
       "</table>\n",
       "</div>"
      ],
      "text/plain": [
       "      Gender     Height      Weight    zscore  std_scaler\n",
       "1317    Male  78.462053  227.342565  3.025384    3.025561\n",
       "2014    Male  78.998742  269.989698  3.164731    3.164916\n",
       "3285    Male  78.528210  253.889004  3.042561    3.042739\n",
       "3757    Male  78.621374  245.733783  3.066750    3.066930\n",
       "6328  Female  80.450000  178.020675  3.541539    3.541746"
      ]
     },
     "execution_count": 157,
     "metadata": {},
     "output_type": "execute_result"
    }
   ],
   "source": [
    "df[(df[\"zscore\"]>3)]"
   ]
  },
  {
   "cell_type": "code",
   "execution_count": 158,
   "id": "09d5d902-3939-4e67-838c-cf72e03afdb6",
   "metadata": {},
   "outputs": [
    {
     "data": {
      "text/html": [
       "<div>\n",
       "<style scoped>\n",
       "    .dataframe tbody tr th:only-of-type {\n",
       "        vertical-align: middle;\n",
       "    }\n",
       "\n",
       "    .dataframe tbody tr th {\n",
       "        vertical-align: top;\n",
       "    }\n",
       "\n",
       "    .dataframe thead th {\n",
       "        text-align: right;\n",
       "    }\n",
       "</style>\n",
       "<table border=\"1\" class=\"dataframe\">\n",
       "  <thead>\n",
       "    <tr style=\"text-align: right;\">\n",
       "      <th></th>\n",
       "      <th>Gender</th>\n",
       "      <th>Height</th>\n",
       "      <th>Weight</th>\n",
       "    </tr>\n",
       "  </thead>\n",
       "  <tbody>\n",
       "    <tr>\n",
       "      <th>6624</th>\n",
       "      <td>Female</td>\n",
       "      <td>54.616858</td>\n",
       "      <td>71.393749</td>\n",
       "    </tr>\n",
       "    <tr>\n",
       "      <th>7294</th>\n",
       "      <td>Female</td>\n",
       "      <td>54.873728</td>\n",
       "      <td>78.606670</td>\n",
       "    </tr>\n",
       "    <tr>\n",
       "      <th>7617</th>\n",
       "      <td>Female</td>\n",
       "      <td>55.148557</td>\n",
       "      <td>88.812412</td>\n",
       "    </tr>\n",
       "  </tbody>\n",
       "</table>\n",
       "</div>"
      ],
      "text/plain": [
       "      Gender     Height     Weight\n",
       "6624  Female  54.616858  71.393749\n",
       "7294  Female  54.873728  78.606670\n",
       "7617  Female  55.148557  88.812412"
      ]
     },
     "execution_count": 158,
     "metadata": {},
     "output_type": "execute_result"
    }
   ],
   "source": [
    "df2[df2[\"Height\"]<sigma_3_neg]"
   ]
  },
  {
   "cell_type": "code",
   "execution_count": 159,
   "id": "c23d5da4-fa4a-4e5f-b592-5bf3b42cc856",
   "metadata": {},
   "outputs": [
    {
     "data": {
      "text/html": [
       "<div>\n",
       "<style scoped>\n",
       "    .dataframe tbody tr th:only-of-type {\n",
       "        vertical-align: middle;\n",
       "    }\n",
       "\n",
       "    .dataframe tbody tr th {\n",
       "        vertical-align: top;\n",
       "    }\n",
       "\n",
       "    .dataframe thead th {\n",
       "        text-align: right;\n",
       "    }\n",
       "</style>\n",
       "<table border=\"1\" class=\"dataframe\">\n",
       "  <thead>\n",
       "    <tr style=\"text-align: right;\">\n",
       "      <th></th>\n",
       "      <th>Gender</th>\n",
       "      <th>Height</th>\n",
       "      <th>Weight</th>\n",
       "      <th>zscore</th>\n",
       "      <th>std_scaler</th>\n",
       "    </tr>\n",
       "  </thead>\n",
       "  <tbody>\n",
       "    <tr>\n",
       "      <th>1317</th>\n",
       "      <td>Male</td>\n",
       "      <td>78.462053</td>\n",
       "      <td>227.342565</td>\n",
       "      <td>3.025384</td>\n",
       "      <td>3.025561</td>\n",
       "    </tr>\n",
       "    <tr>\n",
       "      <th>2014</th>\n",
       "      <td>Male</td>\n",
       "      <td>78.998742</td>\n",
       "      <td>269.989698</td>\n",
       "      <td>3.164731</td>\n",
       "      <td>3.164916</td>\n",
       "    </tr>\n",
       "    <tr>\n",
       "      <th>3285</th>\n",
       "      <td>Male</td>\n",
       "      <td>78.528210</td>\n",
       "      <td>253.889004</td>\n",
       "      <td>3.042561</td>\n",
       "      <td>3.042739</td>\n",
       "    </tr>\n",
       "    <tr>\n",
       "      <th>3757</th>\n",
       "      <td>Male</td>\n",
       "      <td>78.621374</td>\n",
       "      <td>245.733783</td>\n",
       "      <td>3.066750</td>\n",
       "      <td>3.066930</td>\n",
       "    </tr>\n",
       "    <tr>\n",
       "      <th>6328</th>\n",
       "      <td>Female</td>\n",
       "      <td>80.450000</td>\n",
       "      <td>178.020675</td>\n",
       "      <td>3.541539</td>\n",
       "      <td>3.541746</td>\n",
       "    </tr>\n",
       "    <tr>\n",
       "      <th>6624</th>\n",
       "      <td>Female</td>\n",
       "      <td>54.616858</td>\n",
       "      <td>71.393749</td>\n",
       "      <td>-3.165834</td>\n",
       "      <td>-3.166020</td>\n",
       "    </tr>\n",
       "    <tr>\n",
       "      <th>7294</th>\n",
       "      <td>Female</td>\n",
       "      <td>54.873728</td>\n",
       "      <td>78.606670</td>\n",
       "      <td>-3.099140</td>\n",
       "      <td>-3.099321</td>\n",
       "    </tr>\n",
       "    <tr>\n",
       "      <th>7617</th>\n",
       "      <td>Female</td>\n",
       "      <td>55.148557</td>\n",
       "      <td>88.812412</td>\n",
       "      <td>-3.027783</td>\n",
       "      <td>-3.027960</td>\n",
       "    </tr>\n",
       "  </tbody>\n",
       "</table>\n",
       "</div>"
      ],
      "text/plain": [
       "      Gender     Height      Weight    zscore  std_scaler\n",
       "1317    Male  78.462053  227.342565  3.025384    3.025561\n",
       "2014    Male  78.998742  269.989698  3.164731    3.164916\n",
       "3285    Male  78.528210  253.889004  3.042561    3.042739\n",
       "3757    Male  78.621374  245.733783  3.066750    3.066930\n",
       "6328  Female  80.450000  178.020675  3.541539    3.541746\n",
       "6624  Female  54.616858   71.393749 -3.165834   -3.166020\n",
       "7294  Female  54.873728   78.606670 -3.099140   -3.099321\n",
       "7617  Female  55.148557   88.812412 -3.027783   -3.027960"
      ]
     },
     "execution_count": 159,
     "metadata": {},
     "output_type": "execute_result"
    }
   ],
   "source": [
    "df[(df[\"zscore\"] >3) | (df[\"zscore\"]<-3)]"
   ]
  },
  {
   "cell_type": "code",
   "execution_count": 160,
   "id": "8e76769c-8fa7-4356-88c3-6dac4505035a",
   "metadata": {},
   "outputs": [],
   "source": [
    "#who are the outliers"
   ]
  },
  {
   "cell_type": "code",
   "execution_count": 161,
   "id": "0ae72c9c-af4a-41a9-993a-62b8a761b329",
   "metadata": {},
   "outputs": [
    {
     "data": {
      "text/html": [
       "<div>\n",
       "<style scoped>\n",
       "    .dataframe tbody tr th:only-of-type {\n",
       "        vertical-align: middle;\n",
       "    }\n",
       "\n",
       "    .dataframe tbody tr th {\n",
       "        vertical-align: top;\n",
       "    }\n",
       "\n",
       "    .dataframe thead th {\n",
       "        text-align: right;\n",
       "    }\n",
       "</style>\n",
       "<table border=\"1\" class=\"dataframe\">\n",
       "  <thead>\n",
       "    <tr style=\"text-align: right;\">\n",
       "      <th></th>\n",
       "      <th>Gender</th>\n",
       "      <th>Height</th>\n",
       "      <th>Weight</th>\n",
       "      <th>zscore</th>\n",
       "      <th>std_scaler</th>\n",
       "    </tr>\n",
       "  </thead>\n",
       "  <tbody>\n",
       "    <tr>\n",
       "      <th>1317</th>\n",
       "      <td>Male</td>\n",
       "      <td>78.462053</td>\n",
       "      <td>227.342565</td>\n",
       "      <td>3.025384</td>\n",
       "      <td>3.025561</td>\n",
       "    </tr>\n",
       "    <tr>\n",
       "      <th>2014</th>\n",
       "      <td>Male</td>\n",
       "      <td>78.998742</td>\n",
       "      <td>269.989698</td>\n",
       "      <td>3.164731</td>\n",
       "      <td>3.164916</td>\n",
       "    </tr>\n",
       "    <tr>\n",
       "      <th>3285</th>\n",
       "      <td>Male</td>\n",
       "      <td>78.528210</td>\n",
       "      <td>253.889004</td>\n",
       "      <td>3.042561</td>\n",
       "      <td>3.042739</td>\n",
       "    </tr>\n",
       "    <tr>\n",
       "      <th>3757</th>\n",
       "      <td>Male</td>\n",
       "      <td>78.621374</td>\n",
       "      <td>245.733783</td>\n",
       "      <td>3.066750</td>\n",
       "      <td>3.066930</td>\n",
       "    </tr>\n",
       "    <tr>\n",
       "      <th>6328</th>\n",
       "      <td>Female</td>\n",
       "      <td>80.450000</td>\n",
       "      <td>178.020675</td>\n",
       "      <td>3.541539</td>\n",
       "      <td>3.541746</td>\n",
       "    </tr>\n",
       "    <tr>\n",
       "      <th>6624</th>\n",
       "      <td>Female</td>\n",
       "      <td>54.616858</td>\n",
       "      <td>71.393749</td>\n",
       "      <td>-3.165834</td>\n",
       "      <td>-3.166020</td>\n",
       "    </tr>\n",
       "    <tr>\n",
       "      <th>7294</th>\n",
       "      <td>Female</td>\n",
       "      <td>54.873728</td>\n",
       "      <td>78.606670</td>\n",
       "      <td>-3.099140</td>\n",
       "      <td>-3.099321</td>\n",
       "    </tr>\n",
       "    <tr>\n",
       "      <th>7617</th>\n",
       "      <td>Female</td>\n",
       "      <td>55.148557</td>\n",
       "      <td>88.812412</td>\n",
       "      <td>-3.027783</td>\n",
       "      <td>-3.027960</td>\n",
       "    </tr>\n",
       "  </tbody>\n",
       "</table>\n",
       "</div>"
      ],
      "text/plain": [
       "      Gender     Height      Weight    zscore  std_scaler\n",
       "1317    Male  78.462053  227.342565  3.025384    3.025561\n",
       "2014    Male  78.998742  269.989698  3.164731    3.164916\n",
       "3285    Male  78.528210  253.889004  3.042561    3.042739\n",
       "3757    Male  78.621374  245.733783  3.066750    3.066930\n",
       "6328  Female  80.450000  178.020675  3.541539    3.541746\n",
       "6624  Female  54.616858   71.393749 -3.165834   -3.166020\n",
       "7294  Female  54.873728   78.606670 -3.099140   -3.099321\n",
       "7617  Female  55.148557   88.812412 -3.027783   -3.027960"
      ]
     },
     "execution_count": 161,
     "metadata": {},
     "output_type": "execute_result"
    }
   ],
   "source": [
    "df[(df[\"zscore\"]>3) | (df[\"zscore\"]<-3)]"
   ]
  },
  {
   "cell_type": "code",
   "execution_count": 162,
   "id": "c72884a0-ad34-4f16-9b7b-6f77380180c0",
   "metadata": {},
   "outputs": [
    {
     "data": {
      "text/html": [
       "<div>\n",
       "<style scoped>\n",
       "    .dataframe tbody tr th:only-of-type {\n",
       "        vertical-align: middle;\n",
       "    }\n",
       "\n",
       "    .dataframe tbody tr th {\n",
       "        vertical-align: top;\n",
       "    }\n",
       "\n",
       "    .dataframe thead th {\n",
       "        text-align: right;\n",
       "    }\n",
       "</style>\n",
       "<table border=\"1\" class=\"dataframe\">\n",
       "  <thead>\n",
       "    <tr style=\"text-align: right;\">\n",
       "      <th></th>\n",
       "      <th>Gender</th>\n",
       "      <th>Height</th>\n",
       "      <th>Weight</th>\n",
       "    </tr>\n",
       "  </thead>\n",
       "  <tbody>\n",
       "    <tr>\n",
       "      <th>1317</th>\n",
       "      <td>Male</td>\n",
       "      <td>78.462053</td>\n",
       "      <td>227.342565</td>\n",
       "    </tr>\n",
       "    <tr>\n",
       "      <th>2014</th>\n",
       "      <td>Male</td>\n",
       "      <td>78.998742</td>\n",
       "      <td>269.989698</td>\n",
       "    </tr>\n",
       "    <tr>\n",
       "      <th>3285</th>\n",
       "      <td>Male</td>\n",
       "      <td>78.528210</td>\n",
       "      <td>253.889004</td>\n",
       "    </tr>\n",
       "    <tr>\n",
       "      <th>3757</th>\n",
       "      <td>Male</td>\n",
       "      <td>78.621374</td>\n",
       "      <td>245.733783</td>\n",
       "    </tr>\n",
       "    <tr>\n",
       "      <th>6328</th>\n",
       "      <td>Female</td>\n",
       "      <td>80.450000</td>\n",
       "      <td>178.020675</td>\n",
       "    </tr>\n",
       "    <tr>\n",
       "      <th>6624</th>\n",
       "      <td>Female</td>\n",
       "      <td>54.616858</td>\n",
       "      <td>71.393749</td>\n",
       "    </tr>\n",
       "    <tr>\n",
       "      <th>7294</th>\n",
       "      <td>Female</td>\n",
       "      <td>54.873728</td>\n",
       "      <td>78.606670</td>\n",
       "    </tr>\n",
       "    <tr>\n",
       "      <th>7617</th>\n",
       "      <td>Female</td>\n",
       "      <td>55.148557</td>\n",
       "      <td>88.812412</td>\n",
       "    </tr>\n",
       "  </tbody>\n",
       "</table>\n",
       "</div>"
      ],
      "text/plain": [
       "      Gender     Height      Weight\n",
       "1317    Male  78.462053  227.342565\n",
       "2014    Male  78.998742  269.989698\n",
       "3285    Male  78.528210  253.889004\n",
       "3757    Male  78.621374  245.733783\n",
       "6328  Female  80.450000  178.020675\n",
       "6624  Female  54.616858   71.393749\n",
       "7294  Female  54.873728   78.606670\n",
       "7617  Female  55.148557   88.812412"
      ]
     },
     "execution_count": 162,
     "metadata": {},
     "output_type": "execute_result"
    }
   ],
   "source": [
    "after_remove_df2 = df2[(df2['Height'] > sigma_3) | (df2['Height']<sigma_3_neg)] #only outliers\n",
    "after_remove_df2"
   ]
  },
  {
   "cell_type": "code",
   "execution_count": 163,
   "id": "853b8503-ec9f-4e92-9526-506fd3a5afed",
   "metadata": {},
   "outputs": [
    {
     "data": {
      "text/plain": [
       "(8555, 3)"
      ]
     },
     "execution_count": 163,
     "metadata": {},
     "output_type": "execute_result"
    }
   ],
   "source": [
    "df2.shape"
   ]
  },
  {
   "cell_type": "code",
   "execution_count": 164,
   "id": "80a5d249-99ee-45ba-ba64-9c50f2626535",
   "metadata": {},
   "outputs": [
    {
     "data": {
      "text/html": [
       "<div>\n",
       "<style scoped>\n",
       "    .dataframe tbody tr th:only-of-type {\n",
       "        vertical-align: middle;\n",
       "    }\n",
       "\n",
       "    .dataframe tbody tr th {\n",
       "        vertical-align: top;\n",
       "    }\n",
       "\n",
       "    .dataframe thead th {\n",
       "        text-align: right;\n",
       "    }\n",
       "</style>\n",
       "<table border=\"1\" class=\"dataframe\">\n",
       "  <thead>\n",
       "    <tr style=\"text-align: right;\">\n",
       "      <th></th>\n",
       "      <th>Gender</th>\n",
       "      <th>Height</th>\n",
       "      <th>Weight</th>\n",
       "    </tr>\n",
       "  </thead>\n",
       "  <tbody>\n",
       "    <tr>\n",
       "      <th>1317</th>\n",
       "      <td>Male</td>\n",
       "      <td>78.462053</td>\n",
       "      <td>227.342565</td>\n",
       "    </tr>\n",
       "    <tr>\n",
       "      <th>2014</th>\n",
       "      <td>Male</td>\n",
       "      <td>78.998742</td>\n",
       "      <td>269.989698</td>\n",
       "    </tr>\n",
       "    <tr>\n",
       "      <th>3285</th>\n",
       "      <td>Male</td>\n",
       "      <td>78.528210</td>\n",
       "      <td>253.889004</td>\n",
       "    </tr>\n",
       "    <tr>\n",
       "      <th>3757</th>\n",
       "      <td>Male</td>\n",
       "      <td>78.621374</td>\n",
       "      <td>245.733783</td>\n",
       "    </tr>\n",
       "    <tr>\n",
       "      <th>6328</th>\n",
       "      <td>Female</td>\n",
       "      <td>80.450000</td>\n",
       "      <td>178.020675</td>\n",
       "    </tr>\n",
       "    <tr>\n",
       "      <th>6624</th>\n",
       "      <td>Female</td>\n",
       "      <td>54.616858</td>\n",
       "      <td>71.393749</td>\n",
       "    </tr>\n",
       "    <tr>\n",
       "      <th>7294</th>\n",
       "      <td>Female</td>\n",
       "      <td>54.873728</td>\n",
       "      <td>78.606670</td>\n",
       "    </tr>\n",
       "    <tr>\n",
       "      <th>7617</th>\n",
       "      <td>Female</td>\n",
       "      <td>55.148557</td>\n",
       "      <td>88.812412</td>\n",
       "    </tr>\n",
       "  </tbody>\n",
       "</table>\n",
       "</div>"
      ],
      "text/plain": [
       "      Gender     Height      Weight\n",
       "1317    Male  78.462053  227.342565\n",
       "2014    Male  78.998742  269.989698\n",
       "3285    Male  78.528210  253.889004\n",
       "3757    Male  78.621374  245.733783\n",
       "6328  Female  80.450000  178.020675\n",
       "6624  Female  54.616858   71.393749\n",
       "7294  Female  54.873728   78.606670\n",
       "7617  Female  55.148557   88.812412"
      ]
     },
     "execution_count": 164,
     "metadata": {},
     "output_type": "execute_result"
    }
   ],
   "source": [
    "df2[(df2.Height<sigma_3_neg) | (df2.Height>sigma_3)]"
   ]
  },
  {
   "cell_type": "code",
   "execution_count": 166,
   "id": "719dc9f4-3752-44cc-99d4-eed3d1db4a80",
   "metadata": {},
   "outputs": [
    {
     "data": {
      "text/html": [
       "<div>\n",
       "<style scoped>\n",
       "    .dataframe tbody tr th:only-of-type {\n",
       "        vertical-align: middle;\n",
       "    }\n",
       "\n",
       "    .dataframe tbody tr th {\n",
       "        vertical-align: top;\n",
       "    }\n",
       "\n",
       "    .dataframe thead th {\n",
       "        text-align: right;\n",
       "    }\n",
       "</style>\n",
       "<table border=\"1\" class=\"dataframe\">\n",
       "  <thead>\n",
       "    <tr style=\"text-align: right;\">\n",
       "      <th></th>\n",
       "      <th>Gender</th>\n",
       "      <th>Height</th>\n",
       "      <th>Weight</th>\n",
       "      <th>zscore</th>\n",
       "      <th>std_scaler</th>\n",
       "    </tr>\n",
       "  </thead>\n",
       "  <tbody>\n",
       "    <tr>\n",
       "      <th>1317</th>\n",
       "      <td>Male</td>\n",
       "      <td>78.462053</td>\n",
       "      <td>227.342565</td>\n",
       "      <td>3.025384</td>\n",
       "      <td>3.025561</td>\n",
       "    </tr>\n",
       "    <tr>\n",
       "      <th>2014</th>\n",
       "      <td>Male</td>\n",
       "      <td>78.998742</td>\n",
       "      <td>269.989698</td>\n",
       "      <td>3.164731</td>\n",
       "      <td>3.164916</td>\n",
       "    </tr>\n",
       "    <tr>\n",
       "      <th>3285</th>\n",
       "      <td>Male</td>\n",
       "      <td>78.528210</td>\n",
       "      <td>253.889004</td>\n",
       "      <td>3.042561</td>\n",
       "      <td>3.042739</td>\n",
       "    </tr>\n",
       "    <tr>\n",
       "      <th>3757</th>\n",
       "      <td>Male</td>\n",
       "      <td>78.621374</td>\n",
       "      <td>245.733783</td>\n",
       "      <td>3.066750</td>\n",
       "      <td>3.066930</td>\n",
       "    </tr>\n",
       "    <tr>\n",
       "      <th>6328</th>\n",
       "      <td>Female</td>\n",
       "      <td>80.450000</td>\n",
       "      <td>178.020675</td>\n",
       "      <td>3.541539</td>\n",
       "      <td>3.541746</td>\n",
       "    </tr>\n",
       "    <tr>\n",
       "      <th>6624</th>\n",
       "      <td>Female</td>\n",
       "      <td>54.616858</td>\n",
       "      <td>71.393749</td>\n",
       "      <td>-3.165834</td>\n",
       "      <td>-3.166020</td>\n",
       "    </tr>\n",
       "    <tr>\n",
       "      <th>7294</th>\n",
       "      <td>Female</td>\n",
       "      <td>54.873728</td>\n",
       "      <td>78.606670</td>\n",
       "      <td>-3.099140</td>\n",
       "      <td>-3.099321</td>\n",
       "    </tr>\n",
       "    <tr>\n",
       "      <th>7617</th>\n",
       "      <td>Female</td>\n",
       "      <td>55.148557</td>\n",
       "      <td>88.812412</td>\n",
       "      <td>-3.027783</td>\n",
       "      <td>-3.027960</td>\n",
       "    </tr>\n",
       "  </tbody>\n",
       "</table>\n",
       "</div>"
      ],
      "text/plain": [
       "      Gender     Height      Weight    zscore  std_scaler\n",
       "1317    Male  78.462053  227.342565  3.025384    3.025561\n",
       "2014    Male  78.998742  269.989698  3.164731    3.164916\n",
       "3285    Male  78.528210  253.889004  3.042561    3.042739\n",
       "3757    Male  78.621374  245.733783  3.066750    3.066930\n",
       "6328  Female  80.450000  178.020675  3.541539    3.541746\n",
       "6624  Female  54.616858   71.393749 -3.165834   -3.166020\n",
       "7294  Female  54.873728   78.606670 -3.099140   -3.099321\n",
       "7617  Female  55.148557   88.812412 -3.027783   -3.027960"
      ]
     },
     "execution_count": 166,
     "metadata": {},
     "output_type": "execute_result"
    }
   ],
   "source": [
    "df[(df['zscore'] >3) | (df['zscore'] < -3)]"
   ]
  },
  {
   "cell_type": "code",
   "execution_count": 167,
   "id": "a8b0375d-3a60-4df2-85c0-da3f0e45375e",
   "metadata": {},
   "outputs": [
    {
     "data": {
      "text/html": [
       "<div>\n",
       "<style scoped>\n",
       "    .dataframe tbody tr th:only-of-type {\n",
       "        vertical-align: middle;\n",
       "    }\n",
       "\n",
       "    .dataframe tbody tr th {\n",
       "        vertical-align: top;\n",
       "    }\n",
       "\n",
       "    .dataframe thead th {\n",
       "        text-align: right;\n",
       "    }\n",
       "</style>\n",
       "<table border=\"1\" class=\"dataframe\">\n",
       "  <thead>\n",
       "    <tr style=\"text-align: right;\">\n",
       "      <th></th>\n",
       "      <th>Gender</th>\n",
       "      <th>Height</th>\n",
       "      <th>Weight</th>\n",
       "    </tr>\n",
       "  </thead>\n",
       "  <tbody>\n",
       "    <tr>\n",
       "      <th>0</th>\n",
       "      <td>Male</td>\n",
       "      <td>73.847017</td>\n",
       "      <td>241.893563</td>\n",
       "    </tr>\n",
       "    <tr>\n",
       "      <th>1</th>\n",
       "      <td>Male</td>\n",
       "      <td>68.781904</td>\n",
       "      <td>162.310473</td>\n",
       "    </tr>\n",
       "    <tr>\n",
       "      <th>2</th>\n",
       "      <td>Male</td>\n",
       "      <td>74.110105</td>\n",
       "      <td>212.740856</td>\n",
       "    </tr>\n",
       "    <tr>\n",
       "      <th>3</th>\n",
       "      <td>Male</td>\n",
       "      <td>71.730978</td>\n",
       "      <td>220.042470</td>\n",
       "    </tr>\n",
       "    <tr>\n",
       "      <th>4</th>\n",
       "      <td>Male</td>\n",
       "      <td>69.881796</td>\n",
       "      <td>206.349801</td>\n",
       "    </tr>\n",
       "    <tr>\n",
       "      <th>...</th>\n",
       "      <td>...</td>\n",
       "      <td>...</td>\n",
       "      <td>...</td>\n",
       "    </tr>\n",
       "    <tr>\n",
       "      <th>8550</th>\n",
       "      <td>Female</td>\n",
       "      <td>60.483946</td>\n",
       "      <td>110.565497</td>\n",
       "    </tr>\n",
       "    <tr>\n",
       "      <th>8551</th>\n",
       "      <td>Female</td>\n",
       "      <td>63.423372</td>\n",
       "      <td>129.921671</td>\n",
       "    </tr>\n",
       "    <tr>\n",
       "      <th>8552</th>\n",
       "      <td>Female</td>\n",
       "      <td>65.584057</td>\n",
       "      <td>155.942671</td>\n",
       "    </tr>\n",
       "    <tr>\n",
       "      <th>8553</th>\n",
       "      <td>Female</td>\n",
       "      <td>67.429971</td>\n",
       "      <td>151.678405</td>\n",
       "    </tr>\n",
       "    <tr>\n",
       "      <th>8554</th>\n",
       "      <td>Female</td>\n",
       "      <td>60.921791</td>\n",
       "      <td>131.253738</td>\n",
       "    </tr>\n",
       "  </tbody>\n",
       "</table>\n",
       "<p>8547 rows × 3 columns</p>\n",
       "</div>"
      ],
      "text/plain": [
       "      Gender     Height      Weight\n",
       "0       Male  73.847017  241.893563\n",
       "1       Male  68.781904  162.310473\n",
       "2       Male  74.110105  212.740856\n",
       "3       Male  71.730978  220.042470\n",
       "4       Male  69.881796  206.349801\n",
       "...      ...        ...         ...\n",
       "8550  Female  60.483946  110.565497\n",
       "8551  Female  63.423372  129.921671\n",
       "8552  Female  65.584057  155.942671\n",
       "8553  Female  67.429971  151.678405\n",
       "8554  Female  60.921791  131.253738\n",
       "\n",
       "[8547 rows x 3 columns]"
      ]
     },
     "execution_count": 167,
     "metadata": {},
     "output_type": "execute_result"
    }
   ],
   "source": [
    "after_remove_df2 = df2[(df2['Height'] < sigma_3) & (df2['Height']>sigma_3_neg)] # no outliers\n",
    "after_remove_df2"
   ]
  },
  {
   "cell_type": "code",
   "execution_count": null,
   "id": "4ff1f3ac-ba35-40a7-b133-03adcc97b870",
   "metadata": {},
   "outputs": [],
   "source": [
    "#Boxplot"
   ]
  },
  {
   "cell_type": "code",
   "execution_count": 168,
   "id": "186e4650-64cd-4ac0-99df-be5fdada93b7",
   "metadata": {},
   "outputs": [
    {
     "data": {
      "image/png": "[encoded data removed]",
      "text/plain": [
       "<Figure size 640x480 with 1 Axes>"
      ]
     },
     "metadata": {},
     "output_type": "display_data"
    }
   ],
   "source": [
    "data = np.array([1,2,3,3,5,7,7,8,9,10,20])\n",
    "q1 = np.percentile(data, 25)\n",
    "q3 = np.percentile(data, 75)\n",
    "iqr = q3 - q1\n",
    "\n",
    "upper_whisker = q3 + 1.5 * iqr\n",
    "lower_whisker = q1 - 1.5 * iqr\n",
    "\n",
    "outliers = (data < lower_whisker) | (data > upper_whisker)\n",
    "\n",
    "fig, ax = plt.subplots()\n",
    "ax.boxplot(data)\n",
    "\n",
    "ax.set_title('Boxplot with Upper and Lower Whiskers')\n",
    "ax.set_xlabel('Data')\n",
    "ax.set_ylabel('Values')\n",
    "plt.show()"
   ]
  },
  {
   "cell_type": "code",
   "execution_count": 169,
   "id": "d53dbc4b-35e9-4657-94f4-fc85e99cab61",
   "metadata": {},
   "outputs": [
    {
     "data": {
      "text/plain": [
       "3.0"
      ]
     },
     "execution_count": 169,
     "metadata": {},
     "output_type": "execute_result"
    }
   ],
   "source": [
    "q1"
   ]
  },
  {
   "cell_type": "code",
   "execution_count": 170,
   "id": "26b7c5ab-1aa4-4802-bf21-ee580fd2b12a",
   "metadata": {},
   "outputs": [
    {
     "data": {
      "text/plain": [
       "8.5"
      ]
     },
     "execution_count": 170,
     "metadata": {},
     "output_type": "execute_result"
    }
   ],
   "source": [
    "q3"
   ]
  },
  {
   "cell_type": "code",
   "execution_count": 171,
   "id": "f7c90d57-ab6d-4290-bb74-a0254a929c03",
   "metadata": {},
   "outputs": [
    {
     "data": {
      "text/plain": [
       "7.0"
      ]
     },
     "execution_count": 171,
     "metadata": {},
     "output_type": "execute_result"
    }
   ],
   "source": [
    "np.percentile(data,50)"
   ]
  },
  {
   "cell_type": "code",
   "execution_count": 172,
   "id": "268ba16f-598e-47f0-bd76-8f253c0539a6",
   "metadata": {},
   "outputs": [
    {
     "data": {
      "text/plain": [
       "{'whiskers': [<matplotlib.lines.Line2D at 0x1f0be313ef0>,\n",
       "  <matplotlib.lines.Line2D at 0x1f0be330230>],\n",
       " 'caps': [<matplotlib.lines.Line2D at 0x1f0be330500>,\n",
       "  <matplotlib.lines.Line2D at 0x1f0be3307a0>],\n",
       " 'boxes': [<matplotlib.lines.Line2D at 0x1f0be313d40>],\n",
       " 'medians': [<matplotlib.lines.Line2D at 0x1f0be330a40>],\n",
       " 'fliers': [<matplotlib.lines.Line2D at 0x1f0be330cb0>],\n",
       " 'means': []}"
      ]
     },
     "execution_count": 172,
     "metadata": {},
     "output_type": "execute_result"
    },
    {
     "data": {
      "image/png": "[encoded data removed]",
      "text/plain": [
       "<Figure size 640x480 with 1 Axes>"
      ]
     },
     "metadata": {},
     "output_type": "display_data"
    }
   ],
   "source": [
    "fig, ax = plt.subplots()\n",
    "ax.boxplot(df['Height'])"
   ]
  },
  {
   "cell_type": "code",
   "execution_count": 173,
   "id": "91071a35-a79a-42eb-9774-5ae3f6c49167",
   "metadata": {},
   "outputs": [
    {
     "data": {
      "image/png": "[encoded data removed]",
      "text/plain": [
       "<Figure size 640x480 with 1 Axes>"
      ]
     },
     "metadata": {},
     "output_type": "display_data"
    }
   ],
   "source": [
    "data = [1,2,3,3,5,7,7,8,9,18,20]\n",
    "\n",
    "sns.boxplot(data=data)\n",
    "\n",
    "plt.xlabel('Data')\n",
    "plt.ylabel('Values')\n",
    "plt.title('Box Plot Example')\n",
    "\n",
    "plt.show()"
   ]
  },
  {
   "cell_type": "code",
   "execution_count": 174,
   "id": "532172fb-8e29-4e91-a0dc-c4cca018bc1d",
   "metadata": {},
   "outputs": [
    {
     "data": {
      "image/png": "[encoded data removed]",
      "text/plain": [
       "<Figure size 640x480 with 1 Axes>"
      ]
     },
     "metadata": {},
     "output_type": "display_data"
    }
   ],
   "source": [
    "data = [1,2,3,3,5,7,7,8,9,10,20]\n",
    "\n",
    "fig, ax = plt.subplots()\n",
    "ax.boxplot(data)\n",
    "\n",
    "ax.set_xlabel('Data')\n",
    "ax.set_ylabel('Values')\n",
    "ax.set_title('Box Plot Example')\n",
    "plt.show()"
   ]
  },
  {
   "cell_type": "code",
   "execution_count": null,
   "id": "94c1b3aa-c22a-4868-a40f-29e13c1255e6",
   "metadata": {},
   "outputs": [],
   "source": []
  }
 ],
 "metadata": {
  "kernelspec": {
   "display_name": "Python 3 (ipykernel)",
   "language": "python",
   "name": "python3"
  },
  "language_info": {
   "codemirror_mode": {
    "name": "ipython",
    "version": 3
   },
   "file_extension": ".py",
   "mimetype": "text/x-python",
   "name": "python",
   "nbconvert_exporter": "python",
   "pygments_lexer": "ipython3",
   "version": "3.12.4"
  }
 },
 "nbformat": 4,
 "nbformat_minor": 5
}
